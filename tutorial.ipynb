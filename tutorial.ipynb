{
 "cells": [
  {
   "cell_type": "code",
   "execution_count": null,
   "metadata": {},
   "outputs": [],
   "source": []
  },
  {
   "cell_type": "markdown",
   "metadata": {},
   "source": [
    "# LLM Fine-tuning Rcnn Object Detection Pipeline\n",
    "\n",
    "UPDATE COLAB BADGE LINK\n",
    "<a target=\"_blank\" href=\"https://colab.research.google.com/github/unionai-oss/object-detection-computer-vision-pipeline/blob/main/tutorial.ipynb\">\n",
    "  <img src=\"https://colab.research.google.com/assets/colab-badge.svg\" alt=\"Open In Colab\"/>\n",
    "</a>\n",
    "\n",
    "GitHub repository: https://github.com/unionai-oss/object-detection-computer-vision-pipeline\n",
    "\n",
    "This notebook is a pipeline for fine-tuning a fast rcnn model on a custom dataset with PyTorch\n",
    "\n",
    "## Project Setup:\n",
    "\n",
    "Sign up for Union while libraries are installing below:\n",
    "\n",
    "- Union sign up: https://signup.union.ai/\n",
    "- Union Dashboard: https://serverless.union.ai/\n",
    "\n",
    "Install python libraries by running the code cell below:"
   ]
  },
  {
   "cell_type": "markdown",
   "metadata": {},
   "source": [
    "# Install required libraries\n",
    "!pip install python-dotenv union==0.1.64 torch torchvision matplotlib pycocotools datasets\n"
   ]
  },
  {
   "cell_type": "markdown",
   "metadata": {},
   "source": [
    "Auth Union account"
   ]
  },
  {
   "cell_type": "code",
   "execution_count": null,
   "metadata": {},
   "outputs": [],
   "source": [
    "!union create login --auth device-flow"
   ]
  },
  {
   "cell_type": "markdown",
   "metadata": {},
   "source": [
    "## Build a Simple Workflow"
   ]
  },
  {
   "cell_type": "code",
   "execution_count": null,
   "metadata": {},
   "outputs": [],
   "source": [
    "%%writefile simple_wf.py\n",
    "\n",
    "# Import libraries and modules\n",
    "# task\n",
    "from flytekit import task, workflow\n",
    "\n",
    "@task\n",
    "def hello_world(name: str) -> str:\n",
    "    return f\"Hello {name}\"\n",
    "\n",
    "# workflow\n",
    "@workflow\n",
    "def main(name: str) -> str:\n",
    "    return hello_world(name=name)"
   ]
  },
  {
   "cell_type": "code",
   "execution_count": null,
   "metadata": {},
   "outputs": [],
   "source": [
    "# Run locally\n",
    "!union run simple_wf.py main --name Flyte"
   ]
  },
  {
   "cell_type": "code",
   "execution_count": null,
   "metadata": {},
   "outputs": [],
   "source": [
    "# Run on Union\n",
    "!union run --remote simple_wf.py main --name Flyte"
   ]
  },
  {
   "cell_type": "code",
   "execution_count": null,
   "metadata": {},
   "outputs": [],
   "source": [
    "!union run simple_wf.py main --help"
   ]
  },
  {
   "cell_type": "code",
   "execution_count": null,
   "metadata": {},
   "outputs": [],
   "source": [
    "!union run --help"
   ]
  },
  {
   "cell_type": "markdown",
   "metadata": {},
   "source": [
    "## Fine tune Fast RCNN Model for Object Detection\n",
    "- Download the dataset\n",
    "- Download the model\n",
    "- Train the model\n",
    "- Evaluate the model\n",
    "\n",
    "Use the model on new images or video"
   ]
  },
  {
   "cell_type": "code",
   "execution_count": null,
   "metadata": {},
   "outputs": [],
   "source": [
    "%%writefile workflow.py\n",
    "\n"
   ]
  },
  {
   "cell_type": "code",
   "execution_count": null,
   "metadata": {},
   "outputs": [],
   "source": [
    "# union run --remote workflow2.py object_detection_workflow\n",
    "# union run workflow2.py object_detection_workflow"
   ]
  },
  {
   "cell_type": "code",
   "execution_count": 2,
   "metadata": {},
   "outputs": [
    {
     "name": "stdout",
     "output_type": "stream",
     "text": [
      "Using cpu device\n",
      "\u001b[36mRunning Execution on Remote.\u001b[0m\n",
      "\u001b[34mImage cr.union.ai/flytekit:ETQmGXAp8aLajS6MMq0L0w found. Skip building.\u001b[0m\n",
      "\u001b[31mRequest rejected by the API, due to Invalid input.\u001b[0m\n",
      "\u001b[31m\u001b[1mRPC Failed, with Status: StatusCode.INVALID_ARGUMENT\u001b[0m\n",
      "\u001b[35m\u001b[1m\tDetails: failed to compile workflow for [resource_type:WORKFLOW project:\"default\" domain:\"development\" name:\"workflow2.object_detection_workflow\" version:\"9RJG8xRl3ZvFJler-XXQtg\" org:\"sagecodes\"] with err failed to compile workflow with err Collected Errors: 2\n",
      "\tError 0: Code: MismatchingTypes, Node Id: n3, Description: Variable [o0] (type [blob:{}]) doesn't match expected type [blob:{format:\"PyTorchModule\"}].\n",
      "\tError 1: Code: ParameterNotBound, Node Id: n3, Description: Parameter not bound [model].\n",
      "\u001b[0m\n"
     ]
    }
   ],
   "source": [
    "!union run --remote workflow2.py object_detection_workflow"
   ]
  },
  {
   "cell_type": "code",
   "execution_count": null,
   "metadata": {},
   "outputs": [],
   "source": [
    "# initialize remote context\n",
    "from union.remote import UnionRemote\n",
    "remote = UnionRemote()"
   ]
  },
  {
   "cell_type": "code",
   "execution_count": null,
   "metadata": {},
   "outputs": [],
   "source": []
  },
  {
   "cell_type": "code",
   "execution_count": null,
   "metadata": {},
   "outputs": [],
   "source": []
  },
  {
   "cell_type": "code",
   "execution_count": null,
   "metadata": {},
   "outputs": [],
   "source": []
  },
  {
   "cell_type": "markdown",
   "metadata": {},
   "source": []
  }
 ],
 "metadata": {
  "kernelspec": {
   "display_name": "cvpt",
   "language": "python",
   "name": "python3"
  },
  "language_info": {
   "codemirror_mode": {
    "name": "ipython",
    "version": 3
   },
   "file_extension": ".py",
   "mimetype": "text/x-python",
   "name": "python",
   "nbconvert_exporter": "python",
   "pygments_lexer": "ipython3",
   "version": "3.11.9"
  }
 },
 "nbformat": 4,
 "nbformat_minor": 2
}
